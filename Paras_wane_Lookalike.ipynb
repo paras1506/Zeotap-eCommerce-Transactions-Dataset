{
 "cells": [
  {
   "cell_type": "markdown",
   "id": "37b3dcf3",
   "metadata": {},
   "source": [
    "### Import required libraries"
   ]
  },
  {
   "cell_type": "code",
   "execution_count": 1,
   "id": "422b4346",
   "metadata": {},
   "outputs": [],
   "source": [
    "import pandas as pd\n",
    "import numpy as np\n",
    "from sklearn.metrics.pairwise import cosine_similarity\n",
    "from sklearn.preprocessing import MinMaxScaler\n",
    "import json"
   ]
  },
  {
   "cell_type": "markdown",
   "id": "63f18059",
   "metadata": {},
   "source": [
    "### Step 1: Load and Preprocess Data\n"
   ]
  },
  {
   "cell_type": "code",
   "execution_count": 2,
   "id": "d7d92b18",
   "metadata": {},
   "outputs": [],
   "source": [
    "customers = pd.read_csv('Customers.csv')\n",
    "products = pd.read_csv('Products.csv')\n",
    "transactions = pd.read_csv('Transactions.csv')"
   ]
  },
  {
   "cell_type": "markdown",
   "id": "b360927e",
   "metadata": {},
   "source": [
    "### Merge datasets\n"
   ]
  },
  {
   "cell_type": "code",
   "execution_count": 3,
   "id": "75c4ce76",
   "metadata": {},
   "outputs": [],
   "source": [
    "merged_data = transactions.merge(products, on='ProductID').merge(customers, on='CustomerID')\n"
   ]
  },
  {
   "cell_type": "markdown",
   "id": "cf9e69a5",
   "metadata": {},
   "source": [
    "### Step 2: Feature Engineering\n"
   ]
  },
  {
   "cell_type": "code",
   "execution_count": 4,
   "id": "f2f39aa7",
   "metadata": {},
   "outputs": [],
   "source": [
    "# Create customer-level features\n",
    "customer_features = merged_data.groupby('CustomerID').agg({\n",
    "    'TotalValue': 'sum',  # Total spending\n",
    "    'TransactionID': 'count',  # Number of transactions\n",
    "    'Category': lambda x: x.nunique(),  # Diversity of products purchased\n",
    "    'TransactionDate': lambda x: (pd.to_datetime(x).max() - pd.to_datetime(x).min()).days + 1  # Activity duration\n",
    "}).reset_index()\n",
    "customer_features.rename(columns={'TransactionID': 'NumTransactions', 'Category': 'ProductDiversity'}, inplace=True)\n"
   ]
  },
  {
   "cell_type": "code",
   "execution_count": 5,
   "id": "11086c2a",
   "metadata": {},
   "outputs": [],
   "source": [
    "# Normalize features\n",
    "scaler = MinMaxScaler()\n",
    "scaled_features = scaler.fit_transform(customer_features[['TotalValue', 'NumTransactions', 'ProductDiversity']])\n"
   ]
  },
  {
   "cell_type": "markdown",
   "id": "42a85a49",
   "metadata": {},
   "source": [
    "### Step 3: Compute Similarity Scores\n"
   ]
  },
  {
   "cell_type": "code",
   "execution_count": 6,
   "id": "4e84fa78",
   "metadata": {},
   "outputs": [],
   "source": [
    "similarity_matrix = cosine_similarity(scaled_features)\n",
    "similarity_df = pd.DataFrame(similarity_matrix, index=customer_features['CustomerID'], columns=customer_features['CustomerID'])\n"
   ]
  },
  {
   "cell_type": "markdown",
   "id": "2ddbeb4f",
   "metadata": {},
   "source": [
    "### Step 4: Generate Lookalike Recommendations\n"
   ]
  },
  {
   "cell_type": "code",
   "execution_count": 10,
   "id": "d8a49a70",
   "metadata": {},
   "outputs": [],
   "source": [
    "lookalike_map = {}\n",
    "all_similarity_scores = []\n",
    "\n",
    "for idx, customer_id in enumerate(similarity_df.index):\n",
    "    similar_customers = similarity_df.iloc[idx].sort_values(ascending=False).iloc[1:4]\n",
    "    \n",
    "    # Store similarity scores for evaluation\n",
    "    all_similarity_scores.extend(similar_customers.values)\n",
    "    \n",
    "    lookalike_map[customer_id] = [{\"cust_id\": sim_id, \"score\": score} for sim_id, score in similar_customers.items()]\n"
   ]
  },
  {
   "cell_type": "code",
   "execution_count": 14,
   "id": "0ce9f9c7",
   "metadata": {},
   "outputs": [],
   "source": [
    "# Save to Lookalike.csv\n",
    "lookalike_df = pd.DataFrame({\n",
    "    \"cust_id\": lookalike_map.keys(),\n",
    "    \"lookalikes\": [json.dumps(v) for v in lookalike_map.values()]\n",
    "})\n",
    "lookalike_df.to_csv('Paras_Wane_Lookalike.csv', index=False)\n"
   ]
  },
  {
   "cell_type": "markdown",
   "id": "9851931c",
   "metadata": {},
   "source": [
    "### Model Accuracy Evaluation\n"
   ]
  },
  {
   "cell_type": "code",
   "execution_count": 15,
   "id": "23a2a640",
   "metadata": {},
   "outputs": [
    {
     "name": "stdout",
     "output_type": "stream",
     "text": [
      "Model Evaluation:\n",
      "Silhouette Score: 0.0252\n",
      "Mean Similarity Score: 0.9938\n",
      "Median Similarity Score: 0.9998\n"
     ]
    }
   ],
   "source": [
    "from sklearn.metrics import silhouette_score\n",
    "\n",
    "silhouette_avg = silhouette_score(scaled_features, np.argmax(similarity_matrix, axis=1))\n",
    "mean_similarity = np.mean(all_similarity_scores)\n",
    "median_similarity = np.median(all_similarity_scores)\n",
    "\n",
    "# Print Model Accuracy and Similarity Scores\n",
    "print(\"Model Evaluation:\")\n",
    "print(f\"Silhouette Score: {silhouette_avg:.4f}\")\n",
    "print(f\"Mean Similarity Score: {mean_similarity:.4f}\")\n",
    "print(f\"Median Similarity Score: {median_similarity:.4f}\")"
   ]
  },
  {
   "cell_type": "code",
   "execution_count": 16,
   "id": "41027710",
   "metadata": {},
   "outputs": [
    {
     "name": "stdout",
     "output_type": "stream",
     "text": [
      "\n",
      "Top 3 Lookalike Customers for the first 20 customers:\n",
      "C0001: [{'cust_id': 'C0152', 'score': 0.9999946121880003}, {'cust_id': 'C0122', 'score': 0.9999836589104507}, {'cust_id': 'C0186', 'score': 0.9999592403338075}]\n",
      "C0002: [{'cust_id': 'C0199', 'score': 0.9997723571957567}, {'cust_id': 'C0010', 'score': 0.9996337031586415}, {'cust_id': 'C0175', 'score': 0.9988707072564544}]\n",
      "C0003: [{'cust_id': 'C0178', 'score': 0.9999981652158934}, {'cust_id': 'C0035', 'score': 0.9998716529680988}, {'cust_id': 'C0146', 'score': 0.9998382139102657}]\n",
      "C0004: [{'cust_id': 'C0101', 'score': 0.9998871853612922}, {'cust_id': 'C0160', 'score': 0.9982651867263247}, {'cust_id': 'C0069', 'score': 0.9982395471473554}]\n",
      "C0005: [{'cust_id': 'C0073', 'score': 0.9999864661084878}, {'cust_id': 'C0064', 'score': 0.9999859217868636}, {'cust_id': 'C0045', 'score': 0.9999847376096453}]\n",
      "C0006: [{'cust_id': 'C0079', 'score': 0.9999971079567408}, {'cust_id': 'C0114', 'score': 0.9988932573659969}, {'cust_id': 'C0158', 'score': 0.9986117277146331}]\n",
      "C0007: [{'cust_id': 'C0082', 'score': 0.999999994134079}, {'cust_id': 'C0018', 'score': 0.9996450502681411}, {'cust_id': 'C0042', 'score': 0.9994852484153698}]\n",
      "C0008: [{'cust_id': 'C0047', 'score': 0.9999998983292774}, {'cust_id': 'C0010', 'score': 0.998959672842866}, {'cust_id': 'C0002', 'score': 0.9973595762439952}]\n",
      "C0009: [{'cust_id': 'C0077', 'score': 0.9999037494825507}, {'cust_id': 'C0157', 'score': 0.9998145047902359}, {'cust_id': 'C0088', 'score': 0.9987939694189626}]\n",
      "C0010: [{'cust_id': 'C0002', 'score': 0.9996337031586415}, {'cust_id': 'C0008', 'score': 0.998959672842866}, {'cust_id': 'C0047', 'score': 0.9989390076410415}]\n",
      "C0011: [{'cust_id': 'C0197', 'score': 0.9999896347757802}, {'cust_id': 'C0046', 'score': 0.9999875107037475}, {'cust_id': 'C0131', 'score': 0.9999709946753218}]\n",
      "C0012: [{'cust_id': 'C0155', 'score': 0.9999298079749052}, {'cust_id': 'C0052', 'score': 0.9996114736906873}, {'cust_id': 'C0108', 'score': 0.9994987428015468}]\n",
      "C0013: [{'cust_id': 'C0092', 'score': 0.9999924790006246}, {'cust_id': 'C0125', 'score': 0.9999469245213454}, {'cust_id': 'C0070', 'score': 0.9999200698300178}]\n",
      "C0014: [{'cust_id': 'C0014', 'score': 1.0}, {'cust_id': 'C0080', 'score': 1.0}, {'cust_id': 'C0078', 'score': 1.0}]\n",
      "C0015: [{'cust_id': 'C0167', 'score': 0.999964236851797}, {'cust_id': 'C0129', 'score': 0.9999112236950141}, {'cust_id': 'C0095', 'score': 0.9995070498145492}]\n",
      "C0016: [{'cust_id': 'C0183', 'score': 0.9999970539372013}, {'cust_id': 'C0112', 'score': 0.999992818474688}, {'cust_id': 'C0051', 'score': 0.9999887436865905}]\n",
      "C0017: [{'cust_id': 'C0162', 'score': 0.999994526195401}, {'cust_id': 'C0113', 'score': 0.9999920737863657}, {'cust_id': 'C0127', 'score': 0.9995167768214778}]\n",
      "C0018: [{'cust_id': 'C0042', 'score': 0.9999851895161198}, {'cust_id': 'C0187', 'score': 0.999877446148145}, {'cust_id': 'C0176', 'score': 0.9998259228508148}]\n",
      "C0019: [{'cust_id': 'C0084', 'score': 0.9933415698297551}, {'cust_id': 'C0134', 'score': 0.9878109409267761}, {'cust_id': 'C0038', 'score': 0.9874994458385129}]\n",
      "C0020: [{'cust_id': 'C0014', 'score': 1.0}, {'cust_id': 'C0080', 'score': 1.0}, {'cust_id': 'C0078', 'score': 1.0}]\n"
     ]
    }
   ],
   "source": [
    "print(\"\\nTop 3 Lookalike Customers for the first 20 customers:\")\n",
    "for cust_id in list(lookalike_map.keys())[:20]:\n",
    "    print(f\"{cust_id}: {lookalike_map[cust_id]}\")"
   ]
  },
  {
   "cell_type": "code",
   "execution_count": null,
   "id": "26ad150e",
   "metadata": {},
   "outputs": [],
   "source": []
  }
 ],
 "metadata": {
  "kernelspec": {
   "display_name": "Python 3 (ipykernel)",
   "language": "python",
   "name": "python3"
  },
  "language_info": {
   "codemirror_mode": {
    "name": "ipython",
    "version": 3
   },
   "file_extension": ".py",
   "mimetype": "text/x-python",
   "name": "python",
   "nbconvert_exporter": "python",
   "pygments_lexer": "ipython3",
   "version": "3.9.7"
  }
 },
 "nbformat": 4,
 "nbformat_minor": 5
}
